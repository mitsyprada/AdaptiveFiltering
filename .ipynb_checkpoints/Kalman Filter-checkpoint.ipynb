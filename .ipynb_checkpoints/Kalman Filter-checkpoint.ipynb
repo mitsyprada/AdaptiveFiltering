{
 "cells": [
  {
   "cell_type": "code",
   "execution_count": 2,
   "metadata": {},
   "outputs": [],
   "source": [
    "import numpy as np"
   ]
  },
  {
   "cell_type": "code",
   "execution_count": null,
   "metadata": {},
   "outputs": [],
   "source": [
    "N = 30\n",
    "mea = np.zeros(N) #measurement given by problem !!!!!!!!!!\n",
    "est = np.zeros(N)\n",
    "E_est = np.zeros(N)\n",
    "est[0] = 0 #initial estimate !!!!!!!\n",
    "E_est[0] = 0 #initial error in the estimate !!!!!!\n",
    "E_mea = 1 #Error in the measurement. Does not change if we use the same aparatus \n",
    "for i in range(1,N,1):\n",
    "    KG[i] = E_est[i-1]/(E_est[i-1]+E_mea) #kalman gain\n",
    "    est[i] = est[i-1] + KG[i]*(mea[i] - est[i-1]) #estimate\n",
    "    E_est[i] = (1 - KG[i]) / E_est[i-1] #error in estimate"
   ]
  },
  {
   "cell_type": "code",
   "execution_count": 3,
   "metadata": {},
   "outputs": [],
   "source": [
    "N = 30\n",
    "mea = np.zeros(N) #measurement"
   ]
  },
  {
   "cell_type": "code",
   "execution_count": null,
   "metadata": {},
   "outputs": [],
   "source": []
  }
 ],
 "metadata": {
  "kernelspec": {
   "display_name": "Python 3",
   "language": "python",
   "name": "python3"
  },
  "language_info": {
   "codemirror_mode": {
    "name": "ipython",
    "version": 3
   },
   "file_extension": ".py",
   "mimetype": "text/x-python",
   "name": "python",
   "nbconvert_exporter": "python",
   "pygments_lexer": "ipython3",
   "version": "3.7.7"
  }
 },
 "nbformat": 4,
 "nbformat_minor": 4
}
